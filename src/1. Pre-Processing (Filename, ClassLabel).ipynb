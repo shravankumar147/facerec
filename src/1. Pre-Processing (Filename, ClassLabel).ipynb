{
 "cells": [
  {
   "cell_type": "code",
   "execution_count": 1,
   "metadata": {
    "collapsed": true
   },
   "outputs": [],
   "source": [
    "import numpy as np\n",
    "import matplotlib.pyplot as plt\n",
    "import pathlib\n",
    "import pandas as pd\n",
    "import csv\n"
   ]
  },
  {
   "cell_type": "code",
   "execution_count": 75,
   "metadata": {},
   "outputs": [],
   "source": [
    "# remove other than images\n",
    "def remove_csvfiles():\n",
    "    import re\n",
    "    root = pathlib.Path('../data/orl_faces/')\n",
    "    dirlist = pathlib.os.listdir(root)\n",
    "    dirs = sorted([x for x in dirlist if re.search(r\"^s\", x)])\n",
    "    for i, name in enumerate(dirs):\n",
    "        for root1, dirs1, files1 in pathlib.os.walk(pathlib.os.path.join(root, name)):\n",
    "    #         print(name, sorted([x for x in files1 if re.search(r\"^FR\", x)]))\n",
    "            [pathlib.os.remove(pathlib.os.path.join(root, name,x)) for x in files1 if re.search(r\"^FR\", x)]\n"
   ]
  },
  {
   "cell_type": "code",
   "execution_count": 76,
   "metadata": {
    "scrolled": true
   },
   "outputs": [],
   "source": [
    "remove_csvfiles()\n",
    "for i, name in enumerate(dirs):\n",
    "    csvfname = ''.join(['../data/orl_faces/',name,'/','FR-',name,'.csv'])\n",
    "    labels = ['Filename','ClassLabel']\n",
    "    for root1, dirs1, files1 in pathlib.os.walk(pathlib.os.path.join(root, name)):\n",
    "        tmp = []\n",
    "        for f in files1:\n",
    "            namelabel = [f,name]\n",
    "            tmp.append(namelabel)\n",
    "            \n",
    "#         print(tmp)\n",
    "        df = pd.DataFrame(data=tmp, columns= labels)\n",
    "        df.to_csv(csvfname, sep=',', index=False, mode = 'w', line_terminator='\\n')\n"
   ]
  }
 ],
 "metadata": {
  "kernelspec": {
   "display_name": "Python 3",
   "language": "python",
   "name": "python3"
  },
  "language_info": {
   "codemirror_mode": {
    "name": "ipython",
    "version": 3
   },
   "file_extension": ".py",
   "mimetype": "text/x-python",
   "name": "python",
   "nbconvert_exporter": "python",
   "pygments_lexer": "ipython3",
   "version": "3.6.1"
  }
 },
 "nbformat": 4,
 "nbformat_minor": 2
}
